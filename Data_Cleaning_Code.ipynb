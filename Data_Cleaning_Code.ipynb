{
  "nbformat": 4,
  "nbformat_minor": 0,
  "metadata": {
    "colab": {
      "provenance": []
    },
    "kernelspec": {
      "name": "python3",
      "display_name": "Python 3"
    },
    "language_info": {
      "name": "python"
    }
  },
  "cells": [
    {
      "cell_type": "code",
      "execution_count": null,
      "metadata": {
        "id": "CT2FhsYb0cH3"
      },
      "outputs": [],
      "source": [
        "import pandas as pd\n",
        "import numpy as np\n",
        "\n",
        "df= pd.read_csv(\"/content/drive/MyDrive/00. Hackathon DaSSA/Dataset/test_data.csv\")\n",
        "\n",
        "# Replacing NA and Strings to NULLs\n",
        "\n",
        "def replace_str_to_na(i):\n",
        "  if (str(i).replace(\".\",\"\").replace(\"-\",\"\").isdigit()):\n",
        "    return i\n",
        "  else:\n",
        "    return None\n",
        "\n",
        "df1= df.copy()\n",
        "\n",
        "#shld_be_int_columns = ['Period Code', 'Cycle ID', 'B_2', 'B_3', 'B_4', 'B_5', 'B_9', 'B_10', 'B_14', 'B_15', 'B_16', 'B_17', 'B_18', 'B_19', 'B_20', 'B_21', 'B_22','B_23', 'B_24', 'B_25']\n",
        "shld_be_int_columns = ['Period Code', 'B_2', 'B_3', 'B_4', 'B_5', 'B_9', 'B_10', 'B_14', 'B_15', 'B_16', 'B_17', 'B_18', 'B_19', 'B_20', 'B_21', 'B_22','B_23', 'B_24', 'B_25']\n",
        "\n",
        "for i in shld_be_int_columns:\n",
        "  df1[i]= df1[i].apply(replace_str_to_na)\n",
        "\n",
        "# Creating dictionary of median values for NA available columns\n",
        "median_dict={'B_2': 0.0,  'B_3': 0.0, 'B_4': 100.0,  'B_5': 518.67, 'B_9': 14.62, 'B_10': 21.61, 'B_14': 1.3, 'B_15': 47.51, 'B_16': 521.48, 'B_17': 2388.09, 'B_18': 8140.53, 'B_19': 8.43885, 'B_20': 0.03, 'B_21': 393.0, 'B_22': 2388.0, 'B_23': 100.0, 'B_24': 38.83, 'B_25':23.29775}\n",
        "\n",
        "\n",
        "# Replacing  NA available columns\n",
        "cols= ['B_2', 'B_3', 'B_4', 'B_5', 'B_9', 'B_10',\n",
        "       'B_14', 'B_15', 'B_16', 'B_17', 'B_18', 'B_19', 'B_20', 'B_21', 'B_22',\n",
        "       'B_23', 'B_24', 'B_25']\n",
        "\n",
        "for i in cols:\n",
        "    df1[i].fillna(median_dict[i],inplace=True)\n",
        "\n",
        "#####################################################################################################\n",
        "df1.to_csv(\"/content/drive/MyDrive/00. Hackathon DaSSA/Dataset Cleaned/test_data_cleaned_new2.csv\")\n"
      ]
    }
  ]
}